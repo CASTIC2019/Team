{
 "cells": [
  {
   "cell_type": "code",
   "execution_count": null,
   "metadata": {},
   "outputs": [],
   "source": [
    "print('hello world')"
   ]
  },
  {
   "cell_type": "code",
   "execution_count": 1,
   "metadata": {
    "scrolled": true
   },
   "outputs": [],
   "source": [
    "import cv2 \n",
    "import numpy as np\n",
    "def draw_circle(event,x,y,flags,param): \n",
    "    if event==cv2.EVENT_LBUTTONDBLCLK:\n",
    "        cv2.circle(img,(x,y),100,(255,0,0),-1)\n",
    "img=np.zeros((512,512,3),np.uint8) \n",
    "cv2.namedWindow('image') \n",
    "cv2.setMouseCallback('image',draw_circle)\n",
    "while(1): \n",
    "    cv2.imshow('image',img) \n",
    "    if cv2.waitKey(20)&0xFF==27:\n",
    "        break\n",
    "cv2.destroyAllWindows()\n"
   ]
  },
  {
   "cell_type": "markdown",
   "metadata": {},
   "source": [
    "# hello world\n",
    "## hello world\n",
    "### hello world"
   ]
  },
  {
   "cell_type": "markdown",
   "metadata": {},
   "source": []
  },
  {
   "cell_type": "code",
   "execution_count": null,
   "metadata": {},
   "outputs": [],
   "source": [
    "import numpy as np\n",
    "import cv2\n",
    "img1 = cv2.imread('msrc01.jpg')\n",
    "img2 = cv2.imread('msrc02.jpg')\n",
    "img3 = cv2.imread('msrc03.jpg')\n",
    "img4 = cv2.imread('msrc04.jpg')\n",
    "cv2.imshow('1',img1)\n",
    "cv2.waitKey(0)\n",
    "cv2.imshow('1',img2)\n",
    "cv2.waitKey(0)\n",
    "cv2.imshow('1',img3)\n",
    "cv2.waitKey(0)\n",
    "cv2.imshow('1',img4)\n",
    "cv2.waitKey(0)\n",
    "cv2.destroyAllWindows()"
   ]
  },
  {
   "cell_type": "code",
   "execution_count": null,
   "metadata": {},
   "outputs": [],
   "source": [
    "print('hi')"
   ]
  },
  {
   "cell_type": "code",
   "execution_count": 3,
   "metadata": {},
   "outputs": [],
   "source": [
    "import numpy as np\n",
    "import cv2\n",
    "import random\n",
    "clk = False\n",
    "cn = random.randint(1,2)\n",
    "pn = random.randint(1,2)\n",
    "hn = random.randint(1,2)\n",
    "def xuyuankai(event,x,y,flags,param):\n",
    "    global clk\n",
    "    if event==cv2.EVENT_LBUTTONDBLCLK:\n",
    "        clk = True\n",
    "def xykclothplan(cn,pn,hn):\n",
    "    face = cv2.imread('face.jpg')\n",
    "    pd = cv2.imread('msrc04.jpg')\n",
    "    cf = \"cloth\"+str(cn)+\".jpg\"\n",
    "    pf = \"pants\"+str(pn)+\".jpg\"\n",
    "    hf = \"hat\"+str(hn)+\".jpg\"\n",
    "    cloth = cv2.imread(cf)\n",
    "    pants = cv2.imread(pf)\n",
    "    hat = cv2.imread(hf)\n",
    "    res1 = cv2.resize(cloth,(150,150),interpolation=cv2.INTER_CUBIC)\n",
    "    res2 = cv2.resize(pants,(150,150),interpolation=cv2.INTER_CUBIC)\n",
    "    res3 = cv2.resize(hat,(100,100),interpolation=cv2.INTER_CUBIC)\n",
    "    pd[490:660,425:595] = face[0:170,0:170]\n",
    "    res = cv2.resize(pd,(600,800),interpolation=cv2.INTER_CUBIC)\n",
    "    res[340:490,215:365] = res1[0:150,0:150]\n",
    "    res[410:560,215:365] = res2[0:150,0:150]\n",
    "    res[150:250,240:340] = res3[0:100,0:100]\n",
    "    return res\n",
    "res = xykclothplan(cn,pn,hn)\n",
    "cv2.imshow('result',res)\n",
    "cv2.setMouseCallback('result',xuyuankai)\n",
    "while True:\n",
    "    if clk == True:\n",
    "        cv2.destroyAllWindows()\n",
    "        cn = random.randint(1,2)\n",
    "        pn = random.randint(1,2)\n",
    "        hn = random.randint(1,2)\n",
    "        res = xykclothplan(cn,pn,hn)\n",
    "        cv2.imshow('result',res)\n",
    "        cv2.setMouseCallback('result',xuyuankai)\n",
    "        clk = False\n",
    "    if cv2.waitKey(1000)&0xFF==27:\n",
    "        break\n",
    "cv2.destroyAllWindows()\n"
   ]
  },
  {
   "cell_type": "code",
   "execution_count": null,
   "metadata": {},
   "outputs": [],
   "source": [
    "int = 1\n",
    "while True:\n",
    "    int += 1\n",
    "    print(int)"
   ]
  }
 ],
 "metadata": {
  "kernelspec": {
   "display_name": "Python 3",
   "language": "python",
   "name": "python3"
  },
  "language_info": {
   "codemirror_mode": {
    "name": "ipython",
    "version": 3
   },
   "file_extension": ".py",
   "mimetype": "text/x-python",
   "name": "python",
   "nbconvert_exporter": "python",
   "pygments_lexer": "ipython3",
   "version": "3.6.5"
  }
 },
 "nbformat": 4,
 "nbformat_minor": 2
}
