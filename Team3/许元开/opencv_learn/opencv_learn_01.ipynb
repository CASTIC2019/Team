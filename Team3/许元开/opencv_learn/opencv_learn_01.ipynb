{
 "cells": [
  {
   "cell_type": "code",
   "execution_count": null,
   "metadata": {},
   "outputs": [],
   "source": [
    "print(\"hello world!\")"
   ]
  },
  {
   "cell_type": "code",
   "execution_count": null,
   "metadata": {},
   "outputs": [],
   "source": [
    "print(\"：）\")"
   ]
  },
  {
   "cell_type": "markdown",
   "metadata": {},
   "source": [
    "# haha\n",
    "## hahaha\n",
    "\n",
    "![](123.jpg)"
   ]
  },
  {
   "cell_type": "markdown",
   "metadata": {},
   "source": [
    "# 飞机大小"
   ]
  },
  {
   "cell_type": "code",
   "execution_count": 3,
   "metadata": {},
   "outputs": [
    {
     "name": "stdout",
     "output_type": "stream",
     "text": [
      "599\n",
      "1027\n"
     ]
    }
   ],
   "source": [
    "# -*- coding: utf-8 -*-\n",
    "\"\"\"\n",
    "Created on Tue Dec 31 19:16:05 2013\n",
    "@author: duan\n",
    "\"\"\"\n",
    "\n",
    "import numpy as np\n",
    "import cv2\n",
    "\n",
    "# Load an color image in grayscale\n",
    "img = cv2.imread('123.jpg',0)\n",
    "print(len(img))\n",
    "print(len(img[0]))"
   ]
  },
  {
   "cell_type": "markdown",
   "metadata": {},
   "source": [
    "# 飞机灰度"
   ]
  },
  {
   "cell_type": "code",
   "execution_count": 6,
   "metadata": {},
   "outputs": [],
   "source": [
    "import numpy as np\n",
    "import cv2\n",
    "\n",
    "img = cv2.imread('123.jpg',0)\n",
    "cv2.imshow('image',img)\n",
    "cv2.waitKey(0)\n",
    "cv2.destroyAllWindows()"
   ]
  },
  {
   "cell_type": "markdown",
   "metadata": {
    "scrolled": true
   },
   "source": [
    "# 飞机灰度"
   ]
  },
  {
   "cell_type": "code",
   "execution_count": 7,
   "metadata": {},
   "outputs": [],
   "source": [
    "# -*- coding: utf-8 -*-\n",
    "\"\"\"\n",
    "Created on Wed Jan 1 20:49:33 2014\n",
    "\n",
    "@author: duan\n",
    "\"\"\"\n",
    "import numpy as np\n",
    "import cv2\n",
    "\n",
    "img = cv2.imread('123.jpg',0)\n",
    "cv2.namedWindow('image', cv2.WINDOW_NORMAL)\n",
    "cv2.imshow('image',img)\n",
    "cv2.waitKey(0)\n",
    "cv2.destroyAllWindows()\n"
   ]
  },
  {
   "cell_type": "markdown",
   "metadata": {},
   "source": [
    "# 摄像头灰度"
   ]
  },
  {
   "cell_type": "code",
   "execution_count": 8,
   "metadata": {},
   "outputs": [
    {
     "name": "stdout",
     "output_type": "stream",
     "text": [
      "hahaha\n"
     ]
    }
   ],
   "source": [
    "# -*- coding: utf-8 -*-\n",
    "\"\"\"\n",
    "Created on Fri Jan 3 21:06:22 2014\n",
    "\n",
    "@author: duan\n",
    "\"\"\"\n",
    "\n",
    "import numpy as np\n",
    "import cv2\n",
    "\n",
    "cap = cv2.VideoCapture(0)\n",
    "print(\"hahaha\")\n",
    "while(True):\n",
    "    #print(\"hehehe\")\n",
    "    ret, frame = cap.read()\n",
    "    \n",
    "    gray = cv2.cvtColor(frame, cv2.COLOR_BGR2GRAY)\n",
    "\n",
    "    cv2.imshow('frame',gray)\n",
    "    if cv2.waitKey(1) & 0xFF == ord('q'):\n",
    "        break\n",
    "cap.release()\n",
    "cv2.destroyAllWindows()"
   ]
  },
  {
   "cell_type": "markdown",
   "metadata": {},
   "source": [
    "# 一键退出摄像头灰度"
   ]
  },
  {
   "cell_type": "code",
   "execution_count": 5,
   "metadata": {},
   "outputs": [],
   "source": [
    "import numpy as np\n",
    "import cv2\n",
    "\n",
    "# Create a black image\n",
    "img=np.zeros((512,512,3), np.uint8)\n",
    "\n",
    "# Draw a diagonal blue line with thickness of 5 px\n",
    "cv2.line(img,(0,0),(511,511),(255,0,0),5)\n",
    "\n",
    "while(True):\n",
    "    #print(\"hehehe\")\n",
    "    cv2.imshow('frame',img)\n",
    "    if cv2.waitKey(1) & 0xFF == ord('q'):\n",
    "        break\n",
    "\n",
    "cv2.destroyAllWindows()"
   ]
  },
  {
   "cell_type": "markdown",
   "metadata": {
    "scrolled": true
   },
   "source": [
    "# 灰度图画长方体"
   ]
  },
  {
   "cell_type": "code",
   "execution_count": 6,
   "metadata": {},
   "outputs": [],
   "source": [
    "cv2.rectangle(img,(384,0),(510,128),(0,255,0),3)\n",
    "\n",
    "while(True):\n",
    "    #print(\"hehehe\")\n",
    "    cv2.imshow('frame',img)\n",
    "    if cv2.waitKey(1) & 0xFF == ord('q'):\n",
    "        break\n",
    "\n",
    "cv2.destroyAllWindows()"
   ]
  },
  {
   "cell_type": "markdown",
   "metadata": {},
   "source": [
    "# 灰度图画圆"
   ]
  },
  {
   "cell_type": "code",
   "execution_count": 3,
   "metadata": {
    "scrolled": true
   },
   "outputs": [
    {
     "ename": "NameError",
     "evalue": "name 'cv2' is not defined",
     "output_type": "error",
     "traceback": [
      "\u001b[1;31m---------------------------------------------------------------------------\u001b[0m",
      "\u001b[1;31mNameError\u001b[0m                                 Traceback (most recent call last)",
      "\u001b[1;32m<ipython-input-3-6388edfe6dc5>\u001b[0m in \u001b[0;36m<module>\u001b[1;34m()\u001b[0m\n\u001b[1;32m----> 1\u001b[1;33m \u001b[0mcv2\u001b[0m\u001b[1;33m.\u001b[0m\u001b[0mcircle\u001b[0m\u001b[1;33m(\u001b[0m\u001b[0mimg\u001b[0m\u001b[1;33m,\u001b[0m\u001b[1;33m(\u001b[0m\u001b[1;36m447\u001b[0m\u001b[1;33m,\u001b[0m\u001b[1;36m63\u001b[0m\u001b[1;33m)\u001b[0m\u001b[1;33m,\u001b[0m \u001b[1;36m63\u001b[0m\u001b[1;33m,\u001b[0m \u001b[1;33m(\u001b[0m\u001b[1;36m0\u001b[0m\u001b[1;33m,\u001b[0m\u001b[1;36m0\u001b[0m\u001b[1;33m,\u001b[0m\u001b[1;36m255\u001b[0m\u001b[1;33m)\u001b[0m\u001b[1;33m,\u001b[0m \u001b[1;33m-\u001b[0m\u001b[1;36m1\u001b[0m\u001b[1;33m)\u001b[0m\u001b[1;33m\u001b[0m\u001b[0m\n\u001b[0m\u001b[0;32m      2\u001b[0m \u001b[1;33m\u001b[0m\u001b[0m\n\u001b[0;32m      3\u001b[0m \u001b[1;32mwhile\u001b[0m\u001b[1;33m(\u001b[0m\u001b[1;32mTrue\u001b[0m\u001b[1;33m)\u001b[0m\u001b[1;33m:\u001b[0m\u001b[1;33m\u001b[0m\u001b[0m\n\u001b[0;32m      4\u001b[0m     \u001b[1;31m#print(\"hehehe\")\u001b[0m\u001b[1;33m\u001b[0m\u001b[1;33m\u001b[0m\u001b[0m\n\u001b[0;32m      5\u001b[0m     \u001b[0mcv2\u001b[0m\u001b[1;33m.\u001b[0m\u001b[0mimshow\u001b[0m\u001b[1;33m(\u001b[0m\u001b[1;34m'frame'\u001b[0m\u001b[1;33m,\u001b[0m\u001b[0mimg\u001b[0m\u001b[1;33m)\u001b[0m\u001b[1;33m\u001b[0m\u001b[0m\n",
      "\u001b[1;31mNameError\u001b[0m: name 'cv2' is not defined"
     ]
    }
   ],
   "source": [
    "cv2.circle(img,(447,63), 63, (0,0,255), -1)\n",
    "\n",
    "while(True):\n",
    "    #print(\"hehehe\")\n",
    "    cv2.imshow('frame',img)\n",
    "    if cv2.waitKey(1) & 0xFF == ord('q'):\n",
    "        break\n",
    "\n",
    "cv2.destroyAllWindows()"
   ]
  },
  {
   "cell_type": "code",
   "execution_count": null,
   "metadata": {},
   "outputs": [
    {
     "name": "stdout",
     "output_type": "stream",
     "text": [
      "393\n",
      "393\n"
     ]
    }
   ],
   "source": [
    "# -*- coding: utf-8 -*-\n",
    "\"\"\"\n",
    "Created on Tue Dec 31 19:16:05 2013\n",
    "@author: duan\n",
    "\"\"\"\n",
    "\n",
    "import numpy as np\n",
    "import cv2\n",
    "\n",
    "# Load an color image in grayscale\n",
    "img = cv2.imread('10.jpg',0)\n",
    "print(len(img))\n",
    "print(len(img[0]))\n",
    "N=10\n",
    "width=int(len(img)/N/2)\n",
    "x0=0+width\n",
    "y0=0+width\n",
    "\n",
    "for xn in range(N):\n",
    "    for yn in range(N):\n",
    "        cv2.circle(img,(x0+xn*width*2,y0+yn*width*2),(width),(255,0,0),1)\n",
    "\n",
    "def draw_circle(event,x,y,flags,param):\n",
    "    print(\"inside draw_circle\")\n",
    "    if event==cv2.EVENT_LBUTTONDBLCLK:\n",
    "        cv2.circle(img,(x,y),100,(255,0,0),-1)\n",
    "        cv2.namedWindow('image')\n",
    "        \n",
    "cv2.setMouseCallback('image',draw_circle)\n",
    "while(1):\n",
    "    cv2.imshow('image',img)\n",
    "    if cv2.waitKey(20)&0xFF==27:\n",
    "        break\n",
    "\n",
    "cv2.destroyAllWindows()"
   ]
  },
  {
   "cell_type": "code",
   "execution_count": 10,
   "metadata": {},
   "outputs": [
    {
     "name": "stdout",
     "output_type": "stream",
     "text": [
      "393\n",
      "393\n"
     ]
    }
   ],
   "source": [
    "# -*- coding: utf-8 -*-\n",
    "\"\"\"\n",
    "Created on Tue Dec 31 19:16:05 2013\n",
    "@author: duan\n",
    "\"\"\"\n",
    "\n",
    "import numpy as np\n",
    "import cv2\n",
    "\n",
    "# Load an color image in grayscale\n",
    "img = cv2.imread('10.jpg',0)\n",
    "print(len(img))\n",
    "print(len(img[0]))\n",
    "N=10\n",
    "width=int(len(img)/N)\n",
    "x0=0\n",
    "y0=0\n",
    "\n",
    "for xn in range(N):\n",
    "    for yn in range(N):\n",
    "        cv2.rectangle(img,(x0+xn*width,y0+yn*width),(x0+xn*width+width,y0+yn*width+width),(255,0,0),1)\n",
    "        \n",
    "        \n",
    "while True:      \n",
    "    font=cv2.FONT_HERSHEY_SIMPLEX\n",
    "    cv2.putText(img,'OpenCV',(10,200), font, 0.5,(255,255,255),1)\n",
    "    \n",
    "    cv2.imshow('image',img)\n",
    "    if cv2.waitKey(1000) & 0xFF == ord('q'):\n",
    "        break\n",
    "\n",
    "cv2.destroyAllWindows()"
   ]
  },
  {
   "cell_type": "code",
   "execution_count": 7,
   "metadata": {},
   "outputs": [
    {
     "ename": "NameError",
     "evalue": "name 'N' is not defined",
     "output_type": "error",
     "traceback": [
      "\u001b[1;31m---------------------------------------------------------------------------\u001b[0m",
      "\u001b[1;31mNameError\u001b[0m                                 Traceback (most recent call last)",
      "\u001b[1;32m<ipython-input-7-5dd851ac791d>\u001b[0m in \u001b[0;36m<module>\u001b[1;34m()\u001b[0m\n\u001b[0;32m     13\u001b[0m \u001b[1;32mwhile\u001b[0m\u001b[1;33m(\u001b[0m\u001b[1;32mTrue\u001b[0m\u001b[1;33m)\u001b[0m\u001b[1;33m:\u001b[0m\u001b[1;33m\u001b[0m\u001b[0m\n\u001b[0;32m     14\u001b[0m \u001b[1;33m\u001b[0m\u001b[0m\n\u001b[1;32m---> 15\u001b[1;33m     \u001b[1;32mfor\u001b[0m \u001b[0mxn\u001b[0m \u001b[1;32min\u001b[0m \u001b[0mrange\u001b[0m\u001b[1;33m(\u001b[0m\u001b[0mN\u001b[0m\u001b[1;33m)\u001b[0m\u001b[1;33m:\u001b[0m\u001b[1;33m\u001b[0m\u001b[0m\n\u001b[0m\u001b[0;32m     16\u001b[0m         \u001b[1;32mfor\u001b[0m \u001b[0myn\u001b[0m \u001b[1;32min\u001b[0m \u001b[0mrange\u001b[0m\u001b[1;33m(\u001b[0m\u001b[0mN\u001b[0m\u001b[1;33m)\u001b[0m\u001b[1;33m:\u001b[0m\u001b[1;33m\u001b[0m\u001b[0m\n\u001b[0;32m     17\u001b[0m             \u001b[0mcv2\u001b[0m\u001b[1;33m.\u001b[0m\u001b[0mrectangle\u001b[0m\u001b[1;33m(\u001b[0m\u001b[0mimg\u001b[0m\u001b[1;33m,\u001b[0m\u001b[1;33m(\u001b[0m\u001b[0mx0\u001b[0m\u001b[1;33m+\u001b[0m\u001b[0mxn\u001b[0m\u001b[1;33m*\u001b[0m\u001b[0mwidth\u001b[0m\u001b[1;33m,\u001b[0m\u001b[0my0\u001b[0m\u001b[1;33m+\u001b[0m\u001b[0myn\u001b[0m\u001b[1;33m*\u001b[0m\u001b[0mwidth\u001b[0m\u001b[1;33m)\u001b[0m\u001b[1;33m,\u001b[0m\u001b[1;33m(\u001b[0m\u001b[0mx0\u001b[0m\u001b[1;33m+\u001b[0m\u001b[0mxn\u001b[0m\u001b[1;33m*\u001b[0m\u001b[0mwidth\u001b[0m\u001b[1;33m+\u001b[0m\u001b[0mwidth\u001b[0m\u001b[1;33m,\u001b[0m\u001b[0my0\u001b[0m\u001b[1;33m+\u001b[0m\u001b[0myn\u001b[0m\u001b[1;33m*\u001b[0m\u001b[0mwidth\u001b[0m\u001b[1;33m+\u001b[0m\u001b[0mwidth\u001b[0m\u001b[1;33m)\u001b[0m\u001b[1;33m,\u001b[0m\u001b[1;33m(\u001b[0m\u001b[1;36m255\u001b[0m\u001b[1;33m,\u001b[0m\u001b[1;36m0\u001b[0m\u001b[1;33m,\u001b[0m\u001b[1;36m0\u001b[0m\u001b[1;33m)\u001b[0m\u001b[1;33m,\u001b[0m\u001b[1;36m5\u001b[0m\u001b[1;33m)\u001b[0m\u001b[1;33m\u001b[0m\u001b[0m\n",
      "\u001b[1;31mNameError\u001b[0m: name 'N' is not defined"
     ]
    }
   ],
   "source": [
    "# -*- coding: utf-8 -*-\n",
    "\"\"\"\n",
    "Created on Fri Jan 3 21:06:22 2014\n",
    "\n",
    "@author: duan\n",
    "\"\"\"\n",
    "\n",
    "import numpy as np\n",
    "import cv2\n",
    "\n",
    "cap = cv2.VideoCapture(0)\n",
    "\n",
    "while(True):\n",
    "    \n",
    "    for xn in range(N):\n",
    "        for yn in range(N):\n",
    "            cv2.rectangle(img,(x0+xn*width,y0+yn*width),(x0+xn*width+width,y0+yn*width+width),(255,0,0),5)\n",
    "    # Display the resulting frame\n",
    "    # Capture frame-by-frame\n",
    "    ret, frame = cap.read()\n",
    "\n",
    "    # Our operations on the frame come here\n",
    "    img = cv2.cvtColor(frame, cv2.COLOR_BGR2GRAY)\n",
    "\n",
    "    \n",
    "    print(len(img))\n",
    "    print(len(img[0]))\n",
    "    N=3\n",
    "    width=int(len(img)/N)\n",
    "    x0=75\n",
    "    y0=0\n",
    "    #chese=[[[10,20],[20,20]],[[30,50],[40,60]]]\n",
    "    #[x,y]=chese[0][0]\n",
    "    #print(x)\n",
    "    #print(y)\n",
    "    for xn in range(N):\n",
    "        for yn in range(N):\n",
    "            cv2.rectangle(img,(x0+xn*width,y0+yn*width),x0+xn*width+width,y0+yn*width+width),(255,0,0),5)\n",
    "    cv2.imshow('frame',img)\n",
    "    if cv2.waitKey(1) & 0xFF == ord('q'):\n",
    "        break\n",
    "\n",
    "cap.release()\n",
    "cv2.destroyAllWindows()"
   ]
  },
  {
   "cell_type": "markdown",
   "metadata": {},
   "source": [
    "# 鼠标"
   ]
  },
  {
   "cell_type": "code",
   "execution_count": 7,
   "metadata": {
    "scrolled": true
   },
   "outputs": [
    {
     "name": "stdout",
     "output_type": "stream",
     "text": [
      "393\n",
      "393\n"
     ]
    },
    {
     "ename": "NameError",
     "evalue": "name 'draw_circle' is not defined",
     "output_type": "error",
     "traceback": [
      "\u001b[1;31m---------------------------------------------------------------------------\u001b[0m",
      "\u001b[1;31mNameError\u001b[0m                                 Traceback (most recent call last)",
      "\u001b[1;32m<ipython-input-7-745921af3622>\u001b[0m in \u001b[0;36m<module>\u001b[1;34m()\u001b[0m\n\u001b[0;32m     26\u001b[0m \u001b[1;33m\u001b[0m\u001b[0m\n\u001b[0;32m     27\u001b[0m \u001b[0mcv2\u001b[0m\u001b[1;33m.\u001b[0m\u001b[0mnamedWindow\u001b[0m\u001b[1;33m(\u001b[0m\u001b[1;34m'image'\u001b[0m\u001b[1;33m)\u001b[0m\u001b[1;33m\u001b[0m\u001b[0m\n\u001b[1;32m---> 28\u001b[1;33m \u001b[0mcv2\u001b[0m\u001b[1;33m.\u001b[0m\u001b[0msetMouseCallback\u001b[0m\u001b[1;33m(\u001b[0m\u001b[1;34m'image'\u001b[0m\u001b[1;33m,\u001b[0m\u001b[0mdraw_circle\u001b[0m\u001b[1;33m)\u001b[0m\u001b[1;33m\u001b[0m\u001b[0m\n\u001b[0m\u001b[0;32m     29\u001b[0m \u001b[1;33m\u001b[0m\u001b[0m\n\u001b[0;32m     30\u001b[0m \u001b[1;32mwhile\u001b[0m\u001b[1;33m(\u001b[0m\u001b[1;36m1\u001b[0m\u001b[1;33m)\u001b[0m\u001b[1;33m:\u001b[0m\u001b[1;33m\u001b[0m\u001b[0m\n",
      "\u001b[1;31mNameError\u001b[0m: name 'draw_circle' is not defined"
     ]
    }
   ],
   "source": [
    "# -*- coding: utf-8 -*-\n",
    "\"\"\"\n",
    "Created on Tue Dec 31 19:16:05 2013\n",
    "@author: duan\n",
    "\"\"\"\n",
    "\n",
    "import numpy as np\n",
    "import cv2\n",
    "\n",
    "# Load an color image in grayscale\n",
    "img = cv2.imread('10.jpg')\n",
    "print(len(img))\n",
    "print(len(img[0]))\n",
    "N=10\n",
    "width=int(len(img)/N/2)\n",
    "x0=0+width\n",
    "y0=0+width\n",
    "\n",
    "for xn in range(N):\n",
    "    for yn in range(N):\n",
    "        cv2.rectangle(img,(1,2),(2,3),(255,0,0),1)\n",
    "\n",
    "#def draw_circle(event,x,y,flags,param):\n",
    "    #if event==cv2.EVENT_LBUTTONDBLCLK:\n",
    "        #cv2.circle(img,(int(x/width/2)*width*2+1+width,int(y/width/2)*width*2+1+width),(width),(255,0,0),-1)\n",
    "\n",
    "cv2.namedWindow('image')\n",
    "cv2.setMouseCallback('image',draw_circle)\n",
    "\n",
    "while(1):\n",
    "    cv2.imshow('image',img)\n",
    "    if cv2.waitKey(1) & 0xFF == ord('q'):\n",
    "        break\n",
    "\n",
    "cv2.destroyAllWindows()"
   ]
  },
  {
   "cell_type": "code",
   "execution_count": 39,
   "metadata": {},
   "outputs": [
    {
     "ename": "UnsupportedOperation",
     "evalue": "not readable",
     "output_type": "error",
     "traceback": [
      "\u001b[1;31m---------------------------------------------------------------------------\u001b[0m",
      "\u001b[1;31mUnsupportedOperation\u001b[0m                      Traceback (most recent call last)",
      "\u001b[1;32m<ipython-input-39-031c1d5eeb8c>\u001b[0m in \u001b[0;36m<module>\u001b[1;34m()\u001b[0m\n\u001b[0;32m      2\u001b[0m \u001b[1;33m\u001b[0m\u001b[0m\n\u001b[0;32m      3\u001b[0m \u001b[0mf\u001b[0m\u001b[1;33m=\u001b[0m\u001b[0mopen\u001b[0m\u001b[1;33m(\u001b[0m\u001b[1;34m\"scv.csv\"\u001b[0m\u001b[1;33m,\u001b[0m\u001b[1;34m\"w\"\u001b[0m\u001b[1;33m)\u001b[0m\u001b[1;33m\u001b[0m\u001b[0m\n\u001b[1;32m----> 4\u001b[1;33m \u001b[0mdata\u001b[0m\u001b[1;33m=\u001b[0m\u001b[0mf\u001b[0m\u001b[1;33m.\u001b[0m\u001b[0mread\u001b[0m\u001b[1;33m(\u001b[0m\u001b[1;33m)\u001b[0m\u001b[1;33m\u001b[0m\u001b[0m\n\u001b[0m\u001b[0;32m      5\u001b[0m \u001b[0mrows\u001b[0m\u001b[1;33m=\u001b[0m\u001b[0mdata\u001b[0m\u001b[1;33m.\u001b[0m\u001b[0msplit\u001b[0m\u001b[1;33m(\u001b[0m\u001b[1;34m'\\n'\u001b[0m\u001b[1;33m)\u001b[0m\u001b[1;33m\u001b[0m\u001b[0m\n\u001b[0;32m      6\u001b[0m \u001b[1;32mfor\u001b[0m \u001b[0mrow\u001b[0m \u001b[1;32min\u001b[0m \u001b[0mrows\u001b[0m\u001b[1;33m:\u001b[0m\u001b[1;33m\u001b[0m\u001b[0m\n",
      "\u001b[1;31mUnsupportedOperation\u001b[0m: not readable"
     ]
    }
   ],
   "source": [
    "## pat=[]\n",
    "\n",
    "f=open(\"scv.csv\",\"w\")\n",
    "data=f.read()\n",
    "rows=data.split('\\n')\n",
    "for row in rows:\n",
    "    pat.append(row.split(\",\"))\n",
    "    \n",
    "pat[3][2]=\"1\"\n"
   ]
  },
  {
   "cell_type": "code",
   "execution_count": 6,
   "metadata": {},
   "outputs": [
    {
     "name": "stdout",
     "output_type": "stream",
     "text": [
      "[['0', '0', '0', '0', '0', '0', '0', '0', '0', '0'], ['0', '1', '1', '1', '0', '0', '0', '0', '0', '0'], ['0', '0', '1', '1', '0', '0', '0', '0', '0', '0'], ['0', '0', '1', '0', '0', '0', '0', '0', '0', '0'], ['0', '0', '0', '1', '0', '1', '0', '0', '0', '0'], ['0', '0', '0', '1', '0', '0', '0', '0', '0', '1'], ['0', '0', '0', '1', '0', '0', '0', '0', '0', '0'], ['0', '0', '1', '0', '0', '0', '0', '0', '0', '0'], ['0', '0', '0', '1', '0', '0', '0', '0', '0', '0'], ['0', '0', '0', '0', '0', '0', '0', '0', '0', '1']]\n",
      "\n",
      "\n",
      "100\n",
      "14\n",
      "14.000000000000002\n",
      "0,0,0,0,0,0,0,0,0,0,\n",
      "0,1,1,1,0,0,0,0,0,0,\n",
      "0,0,1,1,0,0,0,0,0,0,\n",
      "0,0,1,0,0,0,0,0,0,0,\n",
      "0,0,0,1,0,1,0,0,0,0,\n",
      "0,0,0,1,0,0,0,0,0,1,\n",
      "0,0,0,1,0,0,0,0,0,0,\n",
      "0,0,1,0,0,0,0,0,0,0,\n",
      "0,0,0,1,0,0,0,0,0,0,\n",
      "0,0,0,0,0,0,0,0,0,1,\n",
      "\n"
     ]
    }
   ],
   "source": [
    "pat=[]\n",
    "\n",
    "for x in range(10):\n",
    "    row=[]\n",
    "    for y in range(10):\n",
    "        row.append(\"0\")\n",
    "    pat.append(row)\n",
    "    \n",
    "pat[1][2]=\"1\"\n",
    "pat[2][3]=\"1\"\n",
    "pat[3][2]=\"1\"\n",
    "pat[4][3]=\"1\"\n",
    "pat[5][3]=\"1\"\n",
    "pat[1][3]=\"1\"\n",
    "pat[2][2]=\"1\"\n",
    "pat[8][3]=\"1\"\n",
    "pat[7][2]=\"1\"\n",
    "pat[4][5]=\"1\"\n",
    "pat[5][9]=\"1\"\n",
    "pat[6][3]=\"1\"\n",
    "pat[1][1]=\"1\"\n",
    "pat[9][9]=\"1\"\n",
    "\n",
    "print(pat)\n",
    "sum=0\n",
    "count=0\n",
    "for x in range(10):\n",
    "    for y in range(10):\n",
    "        sum+=1\n",
    "        if pat[x][y]==\"1\":\n",
    "            count+=1\n",
    "\n",
    "percent=(float(count)/float(sum))*100.000000\n",
    "print(\"\\n\")\n",
    "print(sum)\n",
    "print(count)\n",
    "print(percent)\n",
    "f.close()\n",
    "data=\"\"\n",
    "f=open(\"scv.csv\",\"w\")\n",
    "for x in range(10):\n",
    "    for y in range(10):\n",
    "        data+=pat[x][y]\n",
    "        data+=\",\"\n",
    "    data+=\"\\n\"\n",
    "\n",
    "print(data)\n",
    "f.write(data)\n",
    "f.close()\n",
    "\n"
   ]
  },
  {
   "cell_type": "code",
   "execution_count": null,
   "metadata": {},
   "outputs": [],
   "source": []
  },
  {
   "cell_type": "code",
   "execution_count": 3,
   "metadata": {},
   "outputs": [
    {
     "name": "stdout",
     "output_type": "stream",
     "text": [
      "[[[255 255   0]\n",
      "  [255 255   0]\n",
      "  [255 255   0]\n",
      "  ...\n",
      "  [255 255   0]\n",
      "  [255 255   0]\n",
      "  [255 255   0]]\n",
      "\n",
      " [[255 255   0]\n",
      "  [255 255   0]\n",
      "  [255 255   0]\n",
      "  ...\n",
      "  [255 255   0]\n",
      "  [255 255   0]\n",
      "  [255 255   0]]\n",
      "\n",
      " [[255 255   0]\n",
      "  [255 255   0]\n",
      "  [255 255   0]\n",
      "  ...\n",
      "  [255 255   0]\n",
      "  [255 255   0]\n",
      "  [255 255   0]]\n",
      "\n",
      " ...\n",
      "\n",
      " [[255 255   0]\n",
      "  [255 255   0]\n",
      "  [255 255   0]\n",
      "  ...\n",
      "  [255 255   0]\n",
      "  [255 255   0]\n",
      "  [255 255   0]]\n",
      "\n",
      " [[255 255   0]\n",
      "  [255 255   0]\n",
      "  [255 255   0]\n",
      "  ...\n",
      "  [255 255   0]\n",
      "  [255 255   0]\n",
      "  [255 255   0]]\n",
      "\n",
      " [[255 255   0]\n",
      "  [255 255   0]\n",
      "  [255 255   0]\n",
      "  ...\n",
      "  [255 255   0]\n",
      "  [255 255   0]\n",
      "  [255 255   0]]]\n",
      "[[[153 169   0]\n",
      "  [170 186   0]\n",
      "  [182 198   0]\n",
      "  ...\n",
      "  [187 188   0]\n",
      "  [199 202   0]\n",
      "  [174 178   0]]\n",
      "\n",
      " [[124 140   0]\n",
      "  [132 148   0]\n",
      "  [147 163   0]\n",
      "  ...\n",
      "  [198 201   0]\n",
      "  [213 216   0]\n",
      "  [192 196   0]]\n",
      "\n",
      " [[156 169   0]\n",
      "  [161 174   0]\n",
      "  [142 155   0]\n",
      "  ...\n",
      "  [193 196   0]\n",
      "  [203 206   0]\n",
      "  [212 216   0]]\n",
      "\n",
      " ...\n",
      "\n",
      " [[146 164   0]\n",
      "  [159 178   0]\n",
      "  [157 174   0]\n",
      "  ...\n",
      "  [176 181   0]\n",
      "  [171 175   0]\n",
      "  [219 223   0]]\n",
      "\n",
      " [[127 144   0]\n",
      "  [155 173   0]\n",
      "  [164 180   0]\n",
      "  ...\n",
      "  [176 181   0]\n",
      "  [170 174   0]\n",
      "  [209 213   0]]\n",
      "\n",
      " [[111 129   0]\n",
      "  [156 173   0]\n",
      "  [168 184   0]\n",
      "  ...\n",
      "  [181 185   0]\n",
      "  [187 191   0]\n",
      "  [199 203   0]]]\n"
     ]
    }
   ],
   "source": [
    "\n",
    "import cv2\n",
    "import numpy as np\n",
    "\n",
    "img = cv2.imread('10.jpg')\n",
    "img1 = cv2.imread('10.jpg')\n",
    "\n",
    "img[100:150,100:150]=[255,255,0]\n",
    "print(img[100:150,100:150])\n",
    "## [255 255 255]\n",
    "roi=img[100:150,100:150]\n",
    "\n",
    "img_result=cv2.bitwise_and(roi,img1[100:150,100:150])\n",
    "img[100:150,100:150]=img_result\n",
    "print(img_result)\n",
    "cv2.imshow(\"2333\",img)\n",
    "cv2.waitKey(0)\n",
    "cv2.destroyAllWindows()"
   ]
  },
  {
   "cell_type": "code",
   "execution_count": 28,
   "metadata": {},
   "outputs": [],
   "source": [
    "for i in range(10):\n",
    "    file_name=\"x\"+str(i)+\".jpg\"\n",
    "    f=open(file_name,\"w\")\n",
    "    data=\"hello\"\n",
    "    f.write(data)\n",
    "    f.close()"
   ]
  },
  {
   "cell_type": "code",
   "execution_count": 44,
   "metadata": {},
   "outputs": [
    {
     "name": "stdout",
     "output_type": "stream",
     "text": [
      "393\n",
      "393\n",
      "[[0, 0, 0, 0, 0, 0, 0, 0, 0, 0], [0, 0, 0, 0, 0, 0, 0, 0, 0, 0], [0, 0, 0, 0, 0, 0, 0, 0, 0, 0], [0, 0, 0, 0, 0, 0, 0, 0, 0, 0], [0, 0, 0, 0, 0, 0, 0, 0, 0, 0], [0, 0, 0, 0, 0, 0, 0, 0, 0, 0], [0, 0, 0, 0, 0, 0, 0, 0, 0, 0], [0, 0, 0, 0, 0, 0, 0, 0, 0, 0], [0, 0, 0, 0, 0, 0, 0, 0, 0, 0], [0, 0, 0, 0, 0, 0, 0, 0, 0, 0]]\n",
      "[[1, 0, 0, 0, 0, 0, 0, 0, 0, 0], [0, 0, 0, 0, 0, 0, 0, 0, 0, 0], [0, 0, 0, 1, 1, 0, 0, 0, 0, 0], [0, 0, 0, 1, 1, 0, 0, 0, 0, 0], [0, 0, 0, 1, 1, 0, 0, 0, 0, 0], [0, 0, 1, 1, 0, 0, 0, 0, 0, 0], [0, 0, 1, 0, 0, 0, 0, 0, 0, 0], [0, 0, 0, 0, 0, 0, 0, 0, 0, 0], [0, 0, 0, 0, 0, 0, 0, 0, 0, 0], [0, 0, 0, 0, 0, 0, 0, 0, 0, 0]]\n",
      "10.0\n"
     ]
    }
   ],
   "source": [
    "# -*- coding: utf-8 -*-\n",
    "\"\"\"\n",
    "Created on Tue Dec 31 19:16:05 2013\n",
    "@author: duan\n",
    "\"\"\"\n",
    "\n",
    "import numpy as np\n",
    "import cv2\n",
    "\n",
    "# Load an color image in grayscale\n",
    "img = cv2.imread('10.jpg')\n",
    "img1=cv2.imread('10.jpg')\n",
    "print(len(img))\n",
    "print(len(img[0]))\n",
    "N=10\n",
    "width=int(len(img)/N)\n",
    "\n",
    "roi = img1[0:width, 0:width ]\n",
    "\n",
    "data=[]\n",
    "for xn in range(N):\n",
    "    data.append([0]*N)\n",
    "print(data)\n",
    "\n",
    "\n",
    "\n",
    "\n",
    "\n",
    "for xn in range(N):\n",
    "    for yn in range(N):\n",
    "        cv2.rectangle(img,(xn*width,yn*width),((xn+1)*width,(yn+1)*width),(255,0,0),1)\n",
    "        \n",
    "\n",
    "def draw_rectangle(event,x,y,flags,param):\n",
    "    if event==cv2.EVENT_LBUTTONDBLCLK:\n",
    "        #print(\"get click\")\n",
    "        #cv2.rectangle(img,(0,0),(100,100),(255,0,0),-1)\n",
    "        \n",
    "        xn=int(y/width)\n",
    "        yn=int(x/width)\n",
    "        if data[xn][yn]==0:\n",
    "            #cv2.rectangle(img,(xn*width,yn*width),((xn+1)*width,(yn+1)*width),(255,0,0),-1)\n",
    "            data[xn][yn]=1\n",
    "        elif data[xn][yn]==1:\n",
    "            #cv2.rectangle(img,(xn*width,yn*width),((xn+1)*width,(yn+1)*width),(0,0,0),-1)\n",
    "            #roi=img1[xn*width:(xn+1)*width,yn*width:(yn+1)*width]\n",
    "            #print(xn,yn)\n",
    "            data[xn][yn]=0\n",
    "        #img1=img[xn*width:(xn+1)*width,yn*width:(yn+1)*width]\n",
    "\n",
    "cv2.namedWindow('image')\n",
    "cv2.namedWindow('image1')\n",
    "\n",
    "cv2.setMouseCallback('image',draw_rectangle)\n",
    "\n",
    "size=len(img)\n",
    "\n",
    "while(1):\n",
    "    img[0:size,0:size]=img1[0:size,0:size]\n",
    "    for xn in range(N):\n",
    "        for yn in range(N):\n",
    "            if data[xn][yn]==0:\n",
    "                cv2.rectangle(img,(xn*width,yn*width),((xn+1)*width,(yn+1)*width),(255,0,0),1)\n",
    "            elif data[xn][yn]==1:\n",
    "                img1bg=img1[xn*width:xn*width+width,yn*width:yn*width+width]\n",
    "                img[xn*width:xn*width+width,yn*width:yn*width+width]=[255,255,0]\n",
    "                imgmsk=img[xn*width:xn*width+width,yn*width:yn*width+width]\n",
    "                img[xn*width:xn*width+width,yn*width:yn*width+width]=cv2.bitwise_and(img1bg,imgmsk)\n",
    "                \n",
    "    \n",
    "    cv2.imshow('image',img)\n",
    "    #cv2.imshow('image1',roi)\n",
    "    if cv2.waitKey(1000) & 0xFF == ord('q'):\n",
    "        break\n",
    "xsum=0\n",
    "osum=0\n",
    "for xn in range(N):\n",
    "    for yn in range(N):\n",
    "        if data[xn][yn]==0:\n",
    "            file_name=\"ox\\\\\"+\"o\"+str(osum)+\".jpeg\"\n",
    "            data_pic=\"hello\" \n",
    "            f=open(file_name,\"w\")\n",
    "            f.write(data_pic)\n",
    "            f.close()\n",
    "            osum+=1\n",
    "        elif data[xn][yn]==1:    \n",
    "            file_name=\"ox\\\\\"+\"x\"+str(xsum)+\".jpeg\"\n",
    "            data_pic=\"hello\" \n",
    "            f=open(file_name,\"w\")\n",
    "            f.write(data_pic)\n",
    "            f.close()\n",
    "            xsum+=1\n",
    "                \n",
    "    \n",
    "cv2.destroyAllWindows()\n",
    "\n",
    "print(data)\n",
    "sum=0\n",
    "for xn in range(N):\n",
    "    for yn in range(N):\n",
    "        if data[xn][yn]==1:\n",
    "            sum=sum+1\n",
    "            \n",
    "print(sum/(N*N)*100)"
   ]
  },
  {
   "cell_type": "code",
   "execution_count": null,
   "metadata": {},
   "outputs": [],
   "source": []
  },
  {
   "cell_type": "code",
   "execution_count": null,
   "metadata": {},
   "outputs": [],
   "source": []
  },
  {
   "cell_type": "code",
   "execution_count": null,
   "metadata": {},
   "outputs": [],
   "source": []
  },
  {
   "cell_type": "code",
   "execution_count": null,
   "metadata": {},
   "outputs": [],
   "source": []
  },
  {
   "cell_type": "code",
   "execution_count": null,
   "metadata": {},
   "outputs": [],
   "source": []
  },
  {
   "cell_type": "code",
   "execution_count": null,
   "metadata": {},
   "outputs": [],
   "source": []
  },
  {
   "cell_type": "code",
   "execution_count": null,
   "metadata": {},
   "outputs": [],
   "source": []
  },
  {
   "cell_type": "code",
   "execution_count": null,
   "metadata": {},
   "outputs": [],
   "source": []
  }
 ],
 "metadata": {
  "kernelspec": {
   "display_name": "Python 3",
   "language": "python",
   "name": "python3"
  },
  "language_info": {
   "codemirror_mode": {
    "name": "ipython",
    "version": 3
   },
   "file_extension": ".py",
   "mimetype": "text/x-python",
   "name": "python",
   "nbconvert_exporter": "python",
   "pygments_lexer": "ipython3",
   "version": "3.6.7"
  }
 },
 "nbformat": 4,
 "nbformat_minor": 2
}
